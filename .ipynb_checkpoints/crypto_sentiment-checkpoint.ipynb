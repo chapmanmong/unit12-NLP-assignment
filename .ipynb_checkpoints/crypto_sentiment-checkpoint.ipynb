{
 "cells": [
  {
   "cell_type": "markdown",
   "metadata": {},
   "source": [
    "# Unit 12 - Tales from the Crypto\n",
    "\n",
    "---\n"
   ]
  },
  {
   "cell_type": "markdown",
   "metadata": {},
   "source": [
    "## 1. Sentiment Analysis\n",
    "\n",
    "Use the [newsapi](https://newsapi.org/) to pull the latest news articles for Bitcoin and Ethereum and create a DataFrame of sentiment scores for each coin.\n",
    "\n",
    "Use descriptive statistics to answer the following questions:\n",
    "1. Which coin had the highest mean positive score?\n",
    "2. Which coin had the highest negative score?\n",
    "3. Which coin had the highest positive score?"
   ]
  },
  {
   "cell_type": "code",
   "execution_count": 1,
   "metadata": {},
   "outputs": [
    {
     "name": "stderr",
     "output_type": "stream",
     "text": [
      "[nltk_data] Downloading package vader_lexicon to\n",
      "[nltk_data]     C:\\Users\\chapm\\AppData\\Roaming\\nltk_data...\n",
      "[nltk_data]   Package vader_lexicon is already up-to-date!\n",
      "\n",
      "Bad key savefig.frameon in file C:\\Users\\chapm\\anaconda3\\envs\\pyvizenv\\lib\\site-packages\\matplotlib\\mpl-data\\stylelib\\_classic_test.mplstyle, line 421 ('savefig.frameon : True')\n",
      "You probably need to get an updated matplotlibrc file from\n",
      "https://github.com/matplotlib/matplotlib/blob/v3.3.4/matplotlibrc.template\n",
      "or from the matplotlib source distribution\n",
      "\n",
      "Bad key verbose.level in file C:\\Users\\chapm\\anaconda3\\envs\\pyvizenv\\lib\\site-packages\\matplotlib\\mpl-data\\stylelib\\_classic_test.mplstyle, line 472 ('verbose.level  : silent      # one of silent, helpful, debug, debug-annoying')\n",
      "You probably need to get an updated matplotlibrc file from\n",
      "https://github.com/matplotlib/matplotlib/blob/v3.3.4/matplotlibrc.template\n",
      "or from the matplotlib source distribution\n",
      "\n",
      "Bad key verbose.fileo in file C:\\Users\\chapm\\anaconda3\\envs\\pyvizenv\\lib\\site-packages\\matplotlib\\mpl-data\\stylelib\\_classic_test.mplstyle, line 473 ('verbose.fileo  : sys.stdout  # a log filename, sys.stdout or sys.stderr')\n",
      "You probably need to get an updated matplotlibrc file from\n",
      "https://github.com/matplotlib/matplotlib/blob/v3.3.4/matplotlibrc.template\n",
      "or from the matplotlib source distribution\n",
      "In C:\\Users\\chapm\\anaconda3\\envs\\pyvizenv\\lib\\site-packages\\matplotlib\\mpl-data\\stylelib\\_classic_test.mplstyle: \n",
      "The text.latex.preview rcparam was deprecated in Matplotlib 3.3 and will be removed two minor releases later.\n",
      "In C:\\Users\\chapm\\anaconda3\\envs\\pyvizenv\\lib\\site-packages\\matplotlib\\mpl-data\\stylelib\\_classic_test.mplstyle: \n",
      "The mathtext.fallback_to_cm rcparam was deprecated in Matplotlib 3.3 and will be removed two minor releases later.\n",
      "In C:\\Users\\chapm\\anaconda3\\envs\\pyvizenv\\lib\\site-packages\\matplotlib\\mpl-data\\stylelib\\_classic_test.mplstyle: Support for setting the 'mathtext.fallback_to_cm' rcParam is deprecated since 3.3 and will be removed two minor releases later; use 'mathtext.fallback : 'cm' instead.\n",
      "In C:\\Users\\chapm\\anaconda3\\envs\\pyvizenv\\lib\\site-packages\\matplotlib\\mpl-data\\stylelib\\_classic_test.mplstyle: \n",
      "The validate_bool_maybe_none function was deprecated in Matplotlib 3.3 and will be removed two minor releases later.\n",
      "In C:\\Users\\chapm\\anaconda3\\envs\\pyvizenv\\lib\\site-packages\\matplotlib\\mpl-data\\stylelib\\_classic_test.mplstyle: \n",
      "The savefig.jpeg_quality rcparam was deprecated in Matplotlib 3.3 and will be removed two minor releases later.\n",
      "In C:\\Users\\chapm\\anaconda3\\envs\\pyvizenv\\lib\\site-packages\\matplotlib\\mpl-data\\stylelib\\_classic_test.mplstyle: \n",
      "The keymap.all_axes rcparam was deprecated in Matplotlib 3.3 and will be removed two minor releases later.\n",
      "In C:\\Users\\chapm\\anaconda3\\envs\\pyvizenv\\lib\\site-packages\\matplotlib\\mpl-data\\stylelib\\_classic_test.mplstyle: \n",
      "The animation.avconv_path rcparam was deprecated in Matplotlib 3.3 and will be removed two minor releases later.\n",
      "In C:\\Users\\chapm\\anaconda3\\envs\\pyvizenv\\lib\\site-packages\\matplotlib\\mpl-data\\stylelib\\_classic_test.mplstyle: \n",
      "The animation.avconv_args rcparam was deprecated in Matplotlib 3.3 and will be removed two minor releases later.\n"
     ]
    }
   ],
   "source": [
    "# Initial imports\n",
    "import os\n",
    "import pandas as pd\n",
    "from dotenv import load_dotenv\n",
    "import nltk as nltk\n",
    "nltk.download('vader_lexicon')\n",
    "from nltk.sentiment.vader import SentimentIntensityAnalyzer\n",
    "analyzer = SentimentIntensityAnalyzer()\n",
    "\n",
    "%matplotlib inline"
   ]
  },
  {
   "cell_type": "code",
   "execution_count": 2,
   "metadata": {},
   "outputs": [],
   "source": [
    "# Read your api key environment variable\n",
    "load_dotenv()\n",
    "API = os.getenv(\"API\")"
   ]
  },
  {
   "cell_type": "code",
   "execution_count": 3,
   "metadata": {},
   "outputs": [],
   "source": [
    "# Create a newsapi client\n",
    "from newsapi import NewsApiClient\n",
    "newsapi = NewsApiClient(api_key=API)"
   ]
  },
  {
   "cell_type": "code",
   "execution_count": 6,
   "metadata": {},
   "outputs": [],
   "source": [
    "# Fetch the Bitcoin news articles\n",
    "btc_news = newsapi.get_everything(\n",
    "    q=\"bitcoin\",\n",
    "    language=\"en\"\n",
    ")"
   ]
  },
  {
   "cell_type": "code",
   "execution_count": 7,
   "metadata": {},
   "outputs": [],
   "source": [
    "# Fetch the Ethereum news articles\n",
    "eth_news = newsapi.get_everything(\n",
    "    q=\"ethereum\",\n",
    "    language=\"en\"\n",
    ")"
   ]
  },
  {
   "cell_type": "code",
   "execution_count": 8,
   "metadata": {},
   "outputs": [
    {
     "data": {
      "text/plain": [
       "{'status': 'ok',\n",
       " 'totalResults': 7591,\n",
       " 'articles': [{'source': {'id': None, 'name': 'Blogspot.com'},\n",
       "   'author': 'noreply@blogger.com (Unknown)',\n",
       "   'title': 'Bitcoin hits strongest level since May',\n",
       "   'description': '<ul><li>Bitcoin, in terms of market value, rose 4.6% to $53,859.6.</li><li>It passed $50,000 mark for first time in four weeks on Tuesday.\\xa0</li><li>Bitcoin fell below $50,000 in early September.</li></ul>Bitcoin hit its highest level since mid-May on Wednesda…',\n",
       "   'url': 'https://techncruncher.blogspot.com/2021/10/bitcoin-hits-strongest-level-since-may.html',\n",
       "   'urlToImage': 'https://blogger.googleusercontent.com/img/a/AVvXsEhiFZua2TKlWOHoZ5qipQ8zBVpSMbXNdxOFJmwNkddvji4GqJRO4SonCCmwV_IBrxtHCb2UlJ850RuZPY75s54QZkedzrYthaQqoo4tuOD3zUbMhTGxJ2T-rFtSu8I1vRJY9RtH8dWw7_5XtGfoeUvJuAWZU-U9XLsHKTKffBSWD6G9su34rjkO0sYD-w=w1200-h630-p-k-no-nu',\n",
       "   'publishedAt': '2021-10-06T17:17:00Z',\n",
       "   'content': '<ul><li>Bitcoin, in terms of market value, rose 4.6% to $53,859.6.</li><li>It passed $50,000 mark for first time in four weeks on Tuesday.\\xa0</li><li>Bitcoin fell below $50,000 in early September.</li>… [+821 chars]'},\n",
       "  {'source': {'id': None, 'name': 'Blogspot.com'},\n",
       "   'author': 'noreply@blogger.com (Unknown)',\n",
       "   'title': 'JPMorgan CEO Says Bitcoin Has No Intrinsic Value After Claiming That Its Price Could Rise 10X',\n",
       "   'description': 'JPMorgan CEO Jamie Dimon is still not a Bitcoin fan despite rapid price appreciation   from U.Today https://ift.tt/3iyi5nR https://ift.tt/eA...',\n",
       "   'url': 'https://techncruncher.blogspot.com/2021/10/jpmorgan-ceo-says-bitcoin-has-no.html',\n",
       "   'urlToImage': None,\n",
       "   'publishedAt': '2021-10-04T19:49:00Z',\n",
       "   'content': 'JPMorgan CEO Jamie Dimon is still not a Bitcoin fan despite rapid price appreciationfrom U.Today https://ift.tt/3iyi5nR https://ift.tt/eA8V8J'},\n",
       "  {'source': {'id': None, 'name': 'Blogspot.com'},\n",
       "   'author': 'noreply@blogger.com (Unknown)',\n",
       "   'title': 'BTC, DOGE, and SHIBA Price Analysis for October 6',\n",
       "   'description': 'How high are the chances of Bitcoin sustaining its gains and pushing altcoins higher?   from U.Today https://ift.tt/3BkD5px https://ift.tt/e...',\n",
       "   'url': 'https://techncruncher.blogspot.com/2021/10/btc-doge-and-shiba-price-analysis-for.html',\n",
       "   'urlToImage': None,\n",
       "   'publishedAt': '2021-10-06T19:49:00Z',\n",
       "   'content': 'How high are the chances of Bitcoin sustaining its gains and pushing altcoins higher?from U.Today https://ift.tt/3BkD5px https://ift.tt/eA8V8J'},\n",
       "  {'source': {'id': None, 'name': 'Blogspot.com'},\n",
       "   'author': 'noreply@blogger.com (Unknown)',\n",
       "   'title': 'Who Bought $1.6B in Bitcoin Wednesday, and Why?',\n",
       "   'description': 'last week the cryptocurrency market persistently asked the gnawing and annoying question, “Why?”\\r\\nSpecifically, why did someone make a massive purchase of $1.6 billion worth of bitcoin on Wednesday in a couple of minutes?\\r\\nWhile many see this huge buy as a si…',\n",
       "   'url': 'https://techncruncher.blogspot.com/2021/10/who-bought-16b-in-bitcoin-wednesday-and.html',\n",
       "   'urlToImage': 'https://blogger.googleusercontent.com/img/a/AVvXsEhsl_C2ZYUVeK-jmFi6Uqp_jp_ZkAFVcEXJD30f7HZvv6DGdmfboiV_UzjK5tbXge19JF93vpfwuN3KmtOaP-sfElPl1iTri7dE13Qn-epBs9qE93eEWjlP3lgWTuCsg_TxslHIoO1Dt61iSIYwmSVCJi4L-ap81CxS0pHD6eYqqClD11QGr_dfpPzQ6w=w1200-h630-p-k-no-nu',\n",
       "   'publishedAt': '2021-10-10T20:12:00Z',\n",
       "   'content': 'Specifically, why did someone make a massive purchase of $1.6 billion worth of bitcoin on Wednesday in a couple of minutes?\\r\\nWhile many see this huge buy as a signal of bullishness, there may be more… [+8443 chars]'},\n",
       "  {'source': {'id': None, 'name': 'Gizmodo.com'},\n",
       "   'author': 'Molly Taft',\n",
       "   'title': 'Bitcoin Miners Are Gobbling Up U.S. Energy',\n",
       "   'description': 'There’s a big new presence slurping up power from the U.S. grid, and it’s growing: bitcoin miners. New research shows that the U.S. has overtaken China as the top global destination for bitcoin mining and energy use is skyrocketing as a result.Read more...',\n",
       "   'url': 'https://gizmodo.com/bitcoin-miners-are-gobbling-up-u-s-energy-1847956270',\n",
       "   'urlToImage': 'https://i.kinja-img.com/gawker-media/image/upload/c_fill,f_auto,fl_progressive,g_center,h_675,pg_1,q_80,w_1200/2a0e7e1f6d07e6cb21b75677aa6df5f0.jpg',\n",
       "   'publishedAt': '2021-10-28T16:45:00Z',\n",
       "   'content': 'Theres a big new presence slurping up power from the U.S. grid, and its growing: bitcoin miners. New research shows that the U.S. has overtaken China as the top global destination for bitcoin mining … [+3088 chars]'},\n",
       "  {'source': {'id': None, 'name': 'Gizmodo.com'},\n",
       "   'author': 'Molly Taft',\n",
       "   'title': 'Mining Bitcoin Using Nuclear Power May Be Fine, Actually',\n",
       "   'description': 'Last week, the Wall Street Journal ran a piece on three recent nuclear-bitcoin deals that may signal a growing trend in the industry. The Journal piece reflects a small but growing sense of excitement expressed by some crypto fans—including Miami mayor and bi…',\n",
       "   'url': 'https://gizmodo.com/mining-bitcoin-using-nuclear-power-may-be-fine-actuall-1847825102',\n",
       "   'urlToImage': 'https://i.kinja-img.com/gawker-media/image/upload/c_fill,f_auto,fl_progressive,g_center,h_675,pg_1,q_80,w_1200/3cd3ec5c1c48d6ad49a659ab76b82e02.jpg',\n",
       "   'publishedAt': '2021-10-08T16:35:00Z',\n",
       "   'content': 'Last week, the Wall Street Journal ran a piece on three recent nuclear-bitcoin deals that may signal a growing trend in the industry. The Journal piece reflects a small but growing sense of excitemen… [+9512 chars]'},\n",
       "  {'source': {'id': None, 'name': 'Gizmodo.com'},\n",
       "   'author': 'Tom McKay',\n",
       "   'title': 'Roughly One-Third of Bitcoin Is Controlled by a Small Cabal of Whales, According to New Study',\n",
       "   'description': 'For all the talk of democratizing finance, the vast majority of Bitcoin continues to be owned by a relative handful of investors.Read more...',\n",
       "   'url': 'https://gizmodo.com/roughly-one-third-of-bitcoin-is-controlled-by-a-small-c-1847938047',\n",
       "   'urlToImage': 'https://i.kinja-img.com/gawker-media/image/upload/c_fill,f_auto,fl_progressive,g_center,h_675,pg_1,q_80,w_1200/c5ef49718a8e4104ec3c1c55507c8244.jpg',\n",
       "   'publishedAt': '2021-10-26T18:10:00Z',\n",
       "   'content': 'For all the talk of democratizing finance, the vast majority of Bitcoin continues to be owned by a relative handful of investors.\\r\\nAs flagged by Bloomberg, newly released data by the National Bureau … [+4274 chars]'},\n",
       "  {'source': {'id': None, 'name': 'Blogspot.com'},\n",
       "   'author': 'noreply@blogger.com (Unknown)',\n",
       "   'title': 'SEC Chair Dodges Question About Regulatory Status of Bitcoin and Ether',\n",
       "   'description': 'The SEC boss remains mum about the regulatory status of the two largest cryptocurrenciesfrom U.Today https://ift.tt/3Af9H2O https://ift.tt/eA8V8J',\n",
       "   'url': 'https://techncruncher.blogspot.com/2021/10/sec-chair-dodges-question-about.html',\n",
       "   'urlToImage': None,\n",
       "   'publishedAt': '2021-10-05T20:49:00Z',\n",
       "   'content': 'The SEC boss remains mum about the regulatory status of the two largest cryptocurrenciesfrom U.Today https://ift.tt/3Af9H2O https://ift.tt/eA8V8J'},\n",
       "  {'source': {'id': None, 'name': 'Blogspot.com'},\n",
       "   'author': 'noreply@blogger.com (Unknown)',\n",
       "   'title': 'IMF Head Says Central Bank Digital Currencies Are Reliable, Hard to Think of Bitcoin as Money',\n",
       "   'description': 'Digital currencies backed by central banks are the most reliable form of digital money, according to IMF managing director Kristalina Georgieva. At the same time, to think of cryptocurrencies such as bitcoin as money is difficult, believes the chief executive…',\n",
       "   'url': 'https://techncruncher.blogspot.com/2021/10/imf-head-says-central-bank-digital.html',\n",
       "   'urlToImage': 'https://blogger.googleusercontent.com/img/a/AVvXsEiXlCRA_UbzC-SYoJvcZ0FDmKyU1gg4tYoqZujE3S0M97uSwzeU3lozMz8_kXZysCa7VM_uc5T0Af1iZKwy3b5UlKNMliJ7ZnxrpONB3Pysz4zipt5vf1EGZidz_i2un_omh2aJ7ZQVCfqNr6D-lE31HNCIKXM7cof3ph2imr3uaLkwm4z3fG3E-smk_w=w1200-h630-p-k-no-nu',\n",
       "   'publishedAt': '2021-10-06T17:39:00Z',\n",
       "   'content': 'Digital currencies backed by central banks are the most reliable form of digital money, according to IMF managing director Kristalina Georgieva. At the same time, to think of cryptocurrencies such as… [+2917 chars]'},\n",
       "  {'source': {'id': None, 'name': 'Gizmodo.com'},\n",
       "   'author': 'Whitney Kimball',\n",
       "   'title': 'A Bitcoin Mining Operation Started a Secret Power Plant, It Did Not Go as Planned',\n",
       "   'description': 'A There Will Be Blood-style drama unfolds in Canada, where a Bitcoin mining operation illegally tapped an unused natural gas well near a wealthy neighborhood in Alberta. The company Link Global might have gotten away with pilfering gas, if not for noise compl…',\n",
       "   'url': 'https://gizmodo.com/a-bitcoin-mining-operation-started-a-secret-power-plant-1847811718',\n",
       "   'urlToImage': 'https://i.kinja-img.com/gawker-media/image/upload/c_fill,f_auto,fl_progressive,g_center,h_675,pg_1,q_80,w_1200/7c2308365fbde2aacd00611609b7f19d.jpg',\n",
       "   'publishedAt': '2021-10-06T19:40:00Z',\n",
       "   'content': 'A There Will Be Blood-style drama unfolds in Canada, where a Bitcoin mining operation illegally tapped an unused natural gas well near a wealthy neighborhood in Alberta. The company Link Global might… [+2770 chars]'},\n",
       "  {'source': {'id': 'reuters', 'name': 'Reuters'},\n",
       "   'author': None,\n",
       "   'title': 'Bitcoin edges off all-time high but momentum for more gains this year seen intact - Reuters',\n",
       "   'description': 'Bitcoin fell slightly in Asian hours on Thursday, a day after marking an all-time high on optimism around the launch of the first U.S. bitcoin futures ETF.',\n",
       "   'url': 'https://www.reuters.com/business/finance/bitcoin-edges-off-all-time-high-momentum-more-gains-this-year-seen-intact-2021-10-21/',\n",
       "   'urlToImage': 'https://www.reuters.com/resizer/oQVnjJsX498T8jA_zabMC414KBs=/1200x628/smart/filters:quality(80)/cloudfront-us-east-2.images.arcpublishing.com/reuters/VB4NPI74TNKYZLB4SQJW74UYPQ.jpg',\n",
       "   'publishedAt': '2021-10-21T03:27:00Z',\n",
       "   'content': 'Representation of cryptocurrency Bitcoin is placed on PC motherboard in this illustration taken, June 29, 2021. REUTERS/Dado Ruvic/IllustrationHONG KONG, Oct 21 (Reuters) - Bitcoin fell slightly in A… [+1642 chars]'},\n",
       "  {'source': {'id': 'reuters', 'name': 'Reuters'},\n",
       "   'author': None,\n",
       "   'title': 'Riding the crypto rollercoaster: Bitcoin nears record high - Reuters',\n",
       "   'description': 'Bitcoin is on the cusp of an all-time high, its latest rally fuelled by the launch of the first U.S. bitcoin futures exchange-traded fund that investors think could make the cryptocurrency accessible for swathes of new investors. <a href=\"/technology/bitcoin-…',\n",
       "   'url': 'https://www.reuters.com/technology/riding-crypto-rollercoaster-bitcoin-nears-record-high-2021-10-20/',\n",
       "   'urlToImage': 'https://www.reuters.com/resizer/dTT3e1T05rswsPG-lqqubNb2TrA=/1200x628/smart/filters:quality(80)/cloudfront-us-east-2.images.arcpublishing.com/reuters/ITNSLRU3KFLP7ABJFCV4MG6BBY.jpg',\n",
       "   'publishedAt': '2021-10-20T09:47:00Z',\n",
       "   'content': 'A representation of the virtual cryptocurrency Bitcoin is seen in this picture illustration taken October 19, 2021. REUTERS/Edgar SuLONDON, Oct 20 (Reuters) - Bitcoin is on the cusp of an all-time hi… [+3260 chars]'},\n",
       "  {'source': {'id': 'business-insider', 'name': 'Business Insider'},\n",
       "   'author': 'ilee@insider.com (Isabelle Lee)',\n",
       "   'title': 'The SEC could approve as many as 4 bitcoin futures ETFs in October',\n",
       "   'description': 'Unlike bitcoin ETFs, SEC Chair Gary Gensler has expressed more openness towards bitcoin futures ETF.',\n",
       "   'url': 'https://markets.businessinsider.com/news/currencies/bitcoin-futures-etf-cryptocurrency-sec-exchange-traded-fund-gary-gensler-2021-10',\n",
       "   'urlToImage': 'https://images2.markets.businessinsider.com/616039325ae4fe0018a70e50?format=jpeg',\n",
       "   'publishedAt': '2021-10-08T13:19:51Z',\n",
       "   'content': 'Securities and Exchange Commission headquarters.\\r\\nREUTERS/Andrew Kelly\\r\\nThe US Securities and Exchange Commission could approve as many as four bitcoin futures exchange-traded funds in October, in wh… [+1732 chars]'},\n",
       "  {'source': {'id': 'reuters', 'name': 'Reuters'},\n",
       "   'author': None,\n",
       "   'title': 'Bitcoin nears record high ahead of futures ETF listing - Reuters',\n",
       "   'description': 'Bitcoin hit a six-month high and was within striking distance of a record on Tuesday as traders bet an anticipated listing of a futures-based U.S. exchange traded fund could herald investment flows into bitcoin and cryptocurrency assets.',\n",
       "   'url': 'https://www.reuters.com/technology/bitcoin-nears-record-high-ahead-futures-etf-listing-2021-10-19/',\n",
       "   'urlToImage': 'https://www.reuters.com/resizer/jm8iK4NjlOkVWrOxCph3jw36h4A=/1200x628/smart/filters:quality(80)/cloudfront-us-east-2.images.arcpublishing.com/reuters/IXILJWRYJZMRTBHUYL3KXS4KSA.jpg',\n",
       "   'publishedAt': '2021-10-19T07:06:00Z',\n",
       "   'content': 'A representation of the virtual cryptocurrency Bitcoin is seen in this picture illustration taken October 18, 2021. REUTERS/Edgar SuSINGAPORE, Oct 19 (Reuters) - Bitcoin hit a six-month high and was … [+2332 chars]'},\n",
       "  {'source': {'id': 'reuters', 'name': 'Reuters'},\n",
       "   'author': None,\n",
       "   'title': 'Bitcoin sits below all-time high after U.S. ETF debut - Reuters',\n",
       "   'description': 'Bitcoin  hovered below record levels on Wednesday, the day after the first U.S. bitcoin futures-based exchange-traded fund (ETF) began trading, a development that market participants say is likely to drive investment into the digital asset.',\n",
       "   'url': 'https://www.reuters.com/technology/bitcoin-sits-below-all-time-high-after-us-etf-debut-2021-10-20/',\n",
       "   'urlToImage': 'https://www.reuters.com/resizer/6SrJPhlyYOAq39obh31ZrIvLXUY=/1200x628/smart/filters:quality(80)/cloudfront-us-east-2.images.arcpublishing.com/reuters/DFOD6OBDWJNB3ELM3Y5C2UPAN4.jpg',\n",
       "   'publishedAt': '2021-10-20T04:03:00Z',\n",
       "   'content': 'A representation of the virtual cryptocurrency Bitcoin is seen in this picture illustration taken October 19, 2021. REUTERS/Edgar SuHONG KONG, Oct 20 (Reuters) - Bitcoin hovered below record levels o… [+1954 chars]'},\n",
       "  {'source': {'id': 'reuters', 'name': 'Reuters'},\n",
       "   'author': 'Reuters Editorial',\n",
       "   'title': 'Bitcoin tops $67,000 in record high - Reuters.com',\n",
       "   'description': 'Bitcoin climbed to a record high on Wednesday amid new interest as the first U.S. bitcoin futures-based exchange-traded funds come to market.  Conway G. Gittens has more.',\n",
       "   'url': 'https://www.reuters.com/video/watch/idOVEZYY6Q3',\n",
       "   'urlToImage': 'https://static.reuters.com/resources/r/?d=20211020&i=OVEZYY6Q3&r=OVEZYY6Q3&t=2',\n",
       "   'publishedAt': '2021-10-20T21:23:09Z',\n",
       "   'content': 'Posted \\r\\nBitcoin climbed to a record high on Wednesday amid new interest as the first U.S. bitcoin futures-based exchange-traded funds come to market. Conway G. Gittens has more.'},\n",
       "  {'source': {'id': 'reuters', 'name': 'Reuters'},\n",
       "   'author': 'Reuters Staff',\n",
       "   'title': 'Bitcoin nears record high ahead of futures ETF listing - Reuters',\n",
       "   'description': 'Bitcoin hit a six-month high and was within striking distance of a record on Tuesday as traders bet an anticipated listing of a futures-based U.S. exchange traded fund could herald investment flows into bitcoin and cryptocurrency assets.',\n",
       "   'url': 'https://www.reuters.com/article/fintech-crypto-bitcoin-idUSKBN2H90JX',\n",
       "   'urlToImage': 'https://static.reuters.com/resources/r/?m=02&d=20211019&t=2&i=1578273178&r=LYNXMPEH9I09A&w=800',\n",
       "   'publishedAt': '2021-10-19T07:02:00Z',\n",
       "   'content': 'By Reuters Staff\\r\\nSINGAPORE (Reuters) - Bitcoin hit a six-month high and was within striking distance of a record on Tuesday as traders bet an anticipated listing of a futures-based U.S. exchange tra… [+2206 chars]'},\n",
       "  {'source': {'id': 'business-insider', 'name': 'Business Insider'},\n",
       "   'author': 'insider@insider.com (Carla Mozée)',\n",
       "   'title': 'The first-ever bitcoin ETF will start trading on Tuesday',\n",
       "   'description': 'The arrival of the bitcoin-futures ETF comes as bitcoin this year has moved above $1 trillion in market capitalization.',\n",
       "   'url': 'https://markets.businessinsider.com/news/currencies/proshares-bitcoin-strategy-etf-bito-nyse-first-futures-fund-launch-2021-10',\n",
       "   'urlToImage': 'https://images2.markets.businessinsider.com/614c8e67c2c9630018f5f51e?format=jpeg',\n",
       "   'publishedAt': '2021-10-18T13:53:14Z',\n",
       "   'content': 'STR/NurPhoto via Getty Images\\r\\nThe first-ever bitcoin-linked exchange-traded fund will begin trading on Tuesday, the provider ProShares said in a statement. The launch will mark another milestone in … [+1567 chars]'},\n",
       "  {'source': {'id': 'reuters', 'name': 'Reuters'},\n",
       "   'author': 'Gertrude Chavez-Dreyfuss',\n",
       "   'title': 'ANALYSIS-Bitcoin futures highlight some pitfalls for new ETFs - Reuters',\n",
       "   'description': 'ANALYSIS-Bitcoin futures highlight some pitfalls for new ETFs\\xa0\\xa0Reuters',\n",
       "   'url': 'https://www.reuters.com/article/fintech-crypto-bitcoin-etf-idUSL1N2RB1ZQ',\n",
       "   'urlToImage': 'https://s1.reutersmedia.net/resources_v2/images/rcom-default.png?w=800',\n",
       "   'publishedAt': '2021-10-19T11:02:00Z',\n",
       "   'content': '* Cryotocurrency gets boost from ETF bitcoin futures launch\\r\\n* ETF bitcoins may have higher costs Vs buying of actual cryptos\\r\\n* But benefits of owning ETFs lauded by many despite some risks\\r\\n* Tuesd… [+4583 chars]'},\n",
       "  {'source': {'id': 'business-insider', 'name': 'Business Insider'},\n",
       "   'author': 'ilee@insider.com (Isabelle Lee)',\n",
       "   'title': 'The SEC just approved the closest thing to a US bitcoin ETF you can buy, for now',\n",
       "   'description': 'The ETF tracks firms that hold a majority of their net assets in bitcoin or get a majority of their profit or sales from bitcoin-related activities.',\n",
       "   'url': 'https://markets.businessinsider.com/news/currencies/bitcoin-etf-exchange-traded-fund-sec-cryptocurrency-volt-sec-gensler-2021-10',\n",
       "   'urlToImage': 'https://images2.markets.businessinsider.com/615f1d90a452880019b57d61?format=jpeg',\n",
       "   'publishedAt': '2021-10-07T18:42:04Z',\n",
       "   'content': 'Bitcoin.\\r\\nChesnot/Getty Images\\r\\nA new exchange-traded fund may be as close as investors can get to having a US bitcoin ETF - at least for now. \\r\\nThe US Securities and Exchange Commission has approved… [+2473 chars]'}]}"
      ]
     },
     "execution_count": 8,
     "metadata": {},
     "output_type": "execute_result"
    }
   ],
   "source": [
    "# Create the Bitcoin sentiment scores DataFrame"
   ]
  },
  {
   "cell_type": "code",
   "execution_count": 7,
   "metadata": {},
   "outputs": [],
   "source": [
    "# Create the Ethereum sentiment scores DataFrame\n",
    "# YOUR CODE HERE!"
   ]
  },
  {
   "cell_type": "code",
   "execution_count": 8,
   "metadata": {},
   "outputs": [],
   "source": [
    "# Describe the Bitcoin Sentiment\n",
    "# YOUR CODE HERE!"
   ]
  },
  {
   "cell_type": "code",
   "execution_count": 9,
   "metadata": {},
   "outputs": [],
   "source": [
    "# Describe the Ethereum Sentiment\n",
    "# YOUR CODE HERE!"
   ]
  },
  {
   "cell_type": "markdown",
   "metadata": {},
   "source": [
    "### Questions:\n",
    "\n",
    "Q: Which coin had the highest mean positive score?\n",
    "\n",
    "A: \n",
    "\n",
    "Q: Which coin had the highest compound score?\n",
    "\n",
    "A: \n",
    "\n",
    "Q. Which coin had the highest positive score?\n",
    "\n",
    "A: "
   ]
  },
  {
   "cell_type": "markdown",
   "metadata": {},
   "source": [
    "---"
   ]
  },
  {
   "cell_type": "markdown",
   "metadata": {},
   "source": [
    "## 2. Natural Language Processing\n",
    "---\n",
    "###   Tokenizer\n",
    "\n",
    "In this section, you will use NLTK and Python to tokenize the text for each coin. Be sure to:\n",
    "1. Lowercase each word.\n",
    "2. Remove Punctuation.\n",
    "3. Remove Stopwords."
   ]
  },
  {
   "cell_type": "code",
   "execution_count": 10,
   "metadata": {},
   "outputs": [],
   "source": [
    "from nltk.tokenize import word_tokenize, sent_tokenize\n",
    "from nltk.corpus import stopwords\n",
    "from nltk.stem import WordNetLemmatizer, PorterStemmer\n",
    "from string import punctuation\n",
    "import re"
   ]
  },
  {
   "cell_type": "code",
   "execution_count": 11,
   "metadata": {},
   "outputs": [],
   "source": [
    "# Instantiate the lemmatizer\n",
    "# YOUR CODE HERE!\n",
    "\n",
    "# Create a list of stopwords\n",
    "# YOUR CODE HERE!\n",
    "\n",
    "# Expand the default stopwords list if necessary\n",
    "# YOUR CODE HERE!"
   ]
  },
  {
   "cell_type": "code",
   "execution_count": 12,
   "metadata": {},
   "outputs": [],
   "source": [
    "# Complete the tokenizer function\n",
    "def tokenizer(text):\n",
    "    \"\"\"Tokenizes text.\"\"\"\n",
    "    \n",
    "    # Remove the punctuation from text\n",
    "\n",
    "   \n",
    "    # Create a tokenized list of the words\n",
    "    \n",
    "    \n",
    "    # Lemmatize words into root words\n",
    "\n",
    "   \n",
    "    # Convert the words to lowercase\n",
    "    \n",
    "    \n",
    "    # Remove the stop words\n",
    "    \n",
    "    \n",
    "    return tokens"
   ]
  },
  {
   "cell_type": "code",
   "execution_count": 13,
   "metadata": {},
   "outputs": [],
   "source": [
    "# Create a new tokens column for Bitcoin\n",
    "# YOUR CODE HERE!"
   ]
  },
  {
   "cell_type": "code",
   "execution_count": 14,
   "metadata": {},
   "outputs": [],
   "source": [
    "# Create a new tokens column for Ethereum\n",
    "# YOUR CODE HERE!"
   ]
  },
  {
   "cell_type": "markdown",
   "metadata": {},
   "source": [
    "---"
   ]
  },
  {
   "cell_type": "markdown",
   "metadata": {},
   "source": [
    "### NGrams and Frequency Analysis\n",
    "\n",
    "In this section you will look at the ngrams and word frequency for each coin. \n",
    "\n",
    "1. Use NLTK to produce the n-grams for N = 2. \n",
    "2. List the top 10 words for each coin. "
   ]
  },
  {
   "cell_type": "code",
   "execution_count": 15,
   "metadata": {},
   "outputs": [],
   "source": [
    "from collections import Counter\n",
    "from nltk import ngrams"
   ]
  },
  {
   "cell_type": "code",
   "execution_count": 16,
   "metadata": {},
   "outputs": [],
   "source": [
    "# Generate the Bitcoin N-grams where N=2\n",
    "# YOUR CODE HERE!"
   ]
  },
  {
   "cell_type": "code",
   "execution_count": 17,
   "metadata": {},
   "outputs": [],
   "source": [
    "# Generate the Ethereum N-grams where N=2\n",
    "# YOUR CODE HERE!"
   ]
  },
  {
   "cell_type": "code",
   "execution_count": 18,
   "metadata": {},
   "outputs": [],
   "source": [
    "# Function token_count generates the top 10 words for a given coin\n",
    "def token_count(tokens, N=3):\n",
    "    \"\"\"Returns the top N tokens from the frequency count\"\"\"\n",
    "    return Counter(tokens).most_common(N)"
   ]
  },
  {
   "cell_type": "code",
   "execution_count": 19,
   "metadata": {},
   "outputs": [],
   "source": [
    "# Use token_count to get the top 10 words for Bitcoin\n",
    "# YOUR CODE HERE!"
   ]
  },
  {
   "cell_type": "code",
   "execution_count": 20,
   "metadata": {},
   "outputs": [],
   "source": [
    "# Use token_count to get the top 10 words for Ethereum\n",
    "# YOUR CODE HERE!"
   ]
  },
  {
   "cell_type": "markdown",
   "metadata": {},
   "source": [
    "---"
   ]
  },
  {
   "cell_type": "markdown",
   "metadata": {},
   "source": [
    "### Word Clouds\n",
    "\n",
    "In this section, you will generate word clouds for each coin to summarize the news for each coin"
   ]
  },
  {
   "cell_type": "code",
   "execution_count": 21,
   "metadata": {},
   "outputs": [],
   "source": [
    "from wordcloud import WordCloud\n",
    "import matplotlib.pyplot as plt\n",
    "plt.style.use('seaborn-whitegrid')\n",
    "import matplotlib as mpl\n",
    "mpl.rcParams['figure.figsize'] = [20.0, 10.0]"
   ]
  },
  {
   "cell_type": "code",
   "execution_count": 22,
   "metadata": {},
   "outputs": [],
   "source": [
    "# Generate the Bitcoin word cloud\n",
    "# YOUR CODE HERE!"
   ]
  },
  {
   "cell_type": "code",
   "execution_count": 23,
   "metadata": {},
   "outputs": [],
   "source": [
    "# Generate the Ethereum word cloud\n",
    "# YOUR CODE HERE!"
   ]
  },
  {
   "cell_type": "markdown",
   "metadata": {},
   "source": [
    "---\n",
    "## 3. Named Entity Recognition\n",
    "\n",
    "In this section, you will build a named entity recognition model for both Bitcoin and Ethereum, then visualize the tags using SpaCy."
   ]
  },
  {
   "cell_type": "code",
   "execution_count": 24,
   "metadata": {},
   "outputs": [],
   "source": [
    "import spacy\n",
    "from spacy import displacy"
   ]
  },
  {
   "cell_type": "code",
   "execution_count": 25,
   "metadata": {},
   "outputs": [],
   "source": [
    "# Download the language model for SpaCy\n",
    "# !python -m spacy download en_core_web_sm"
   ]
  },
  {
   "cell_type": "code",
   "execution_count": 26,
   "metadata": {},
   "outputs": [],
   "source": [
    "# Load the spaCy model\n",
    "nlp = spacy.load('en_core_web_sm')"
   ]
  },
  {
   "cell_type": "markdown",
   "metadata": {},
   "source": [
    "---\n",
    "### Bitcoin NER"
   ]
  },
  {
   "cell_type": "code",
   "execution_count": 27,
   "metadata": {},
   "outputs": [],
   "source": [
    "# Concatenate all of the Bitcoin text together\n",
    "# YOUR CODE HERE!"
   ]
  },
  {
   "cell_type": "code",
   "execution_count": 28,
   "metadata": {},
   "outputs": [],
   "source": [
    "# Run the NER processor on all of the text\n",
    "# YOUR CODE HERE!\n",
    "\n",
    "# Add a title to the document\n",
    "# YOUR CODE HERE!"
   ]
  },
  {
   "cell_type": "code",
   "execution_count": 29,
   "metadata": {},
   "outputs": [],
   "source": [
    "# Render the visualization\n",
    "# YOUR CODE HERE!"
   ]
  },
  {
   "cell_type": "code",
   "execution_count": 30,
   "metadata": {},
   "outputs": [],
   "source": [
    "# List all Entities\n",
    "# YOUR CODE HERE!"
   ]
  },
  {
   "cell_type": "markdown",
   "metadata": {},
   "source": [
    "---"
   ]
  },
  {
   "cell_type": "markdown",
   "metadata": {},
   "source": [
    "### Ethereum NER"
   ]
  },
  {
   "cell_type": "code",
   "execution_count": 31,
   "metadata": {},
   "outputs": [],
   "source": [
    "# Concatenate all of the Ethereum text together\n",
    "# YOUR CODE HERE!"
   ]
  },
  {
   "cell_type": "code",
   "execution_count": 32,
   "metadata": {},
   "outputs": [],
   "source": [
    "# Run the NER processor on all of the text\n",
    "# YOUR CODE HERE!\n",
    "\n",
    "# Add a title to the document\n",
    "# YOUR CODE HERE!"
   ]
  },
  {
   "cell_type": "code",
   "execution_count": 33,
   "metadata": {},
   "outputs": [],
   "source": [
    "# Render the visualization\n",
    "# YOUR CODE HERE!"
   ]
  },
  {
   "cell_type": "code",
   "execution_count": 34,
   "metadata": {},
   "outputs": [],
   "source": [
    "# List all Entities\n",
    "# YOUR CODE HERE!"
   ]
  },
  {
   "cell_type": "markdown",
   "metadata": {},
   "source": [
    "---"
   ]
  }
 ],
 "metadata": {
  "file_extension": ".py",
  "kernelspec": {
   "display_name": "Python 3",
   "language": "python",
   "name": "python3"
  },
  "language_info": {
   "codemirror_mode": {
    "name": "ipython",
    "version": 3
   },
   "file_extension": ".py",
   "mimetype": "text/x-python",
   "name": "python",
   "nbconvert_exporter": "python",
   "pygments_lexer": "ipython3",
   "version": "3.7.10"
  },
  "mimetype": "text/x-python",
  "name": "python",
  "npconvert_exporter": "python",
  "pygments_lexer": "ipython3",
  "version": 3
 },
 "nbformat": 4,
 "nbformat_minor": 4
}
